{
 "cells": [
  {
   "cell_type": "markdown",
   "id": "8f398fe2",
   "metadata": {},
   "source": [
    "Note that you cannot really run this code in a Jupyter Notebook: Streamlit builds websites that run in a browser, not a notebook. But you can copy it into `layout_app.py` and run it there by typing `streamlit run layout_app.py` in the terminal.\n",
    "\n",
    "# Columns\n",
    "\n",
    "Create columns with `st.columns`. It takes an integer (the number of columns you want) and returns a list of column objects as a list. It is common to use **tuple unpacking** to immediate store thos column objects as variables."
   ]
  },
  {
   "cell_type": "code",
   "execution_count": null,
   "id": "cacd055c",
   "metadata": {},
   "outputs": [],
   "source": [
    "import streamlit as st\n",
    "\n",
    "col1, col2 = st.columns(2)"
   ]
  },
  {
   "cell_type": "markdown",
   "id": "e96147d7",
   "metadata": {},
   "source": [
    "You can use those column with a **context manager**. This means typing `with col1:` and then using indentation to indicate the output you want to see in the column:"
   ]
  },
  {
   "cell_type": "code",
   "execution_count": null,
   "id": "201e709f",
   "metadata": {},
   "outputs": [],
   "source": [
    "col1, col2 = st.columns(2)\n",
    "with col1:\n",
    "    st.write(\"I'm in col1...\")\n",
    "with col2:\n",
    "    st.write(\"...and I'm in col2!\")"
   ]
  },
  {
   "cell_type": "markdown",
   "id": "9fd6d8ac",
   "metadata": {},
   "source": [
    "Output above and below the context manager will use Streamlit's default of 1 column:"
   ]
  },
  {
   "cell_type": "code",
   "execution_count": null,
   "id": "3de872df",
   "metadata": {},
   "outputs": [],
   "source": [
    "st.title(\"Demo Streamlit App\")\n",
    "\n",
    "col1, col2 = st.columns(2)\n",
    "with col1:\n",
    "    st.write(\"I'm in col1...\")\n",
    "with col2:\n",
    "    st.write(\"...and I'm in col2!\")\n",
    "\n",
    "st.write(\"Back to normal\")\n"
   ]
  },
  {
   "cell_type": "markdown",
   "id": "e7e05146",
   "metadata": {},
   "source": [
    "# Exercise: Columns\n",
    "\n",
    "Open `layout_app.py` and run it with `streamlit run layout_app.py`. \n",
    "\n",
    "The app has 3 select boxes at the top: state, demographic and year. Currently they appear below each other.\n",
    "\n",
    "Update the app to have columns, and put one select box in each column."
   ]
  },
  {
   "cell_type": "markdown",
   "id": "32e64f36",
   "metadata": {},
   "source": [
    "# Tabs\n",
    "\n",
    "Create tabs with `st.tabs`. It takes a **list** of **names** for each tab. Users will click the name of the tab to show what's inside it. It is common to use **tuple unpacking** to immediate store those tab objects as variables.\n",
    "\n",
    "Because tabs have names, it is common to give the variables descriptive names. (Unlike columns, which are normally just called `col1`, `col2`, etc.)\n"
   ]
  },
  {
   "cell_type": "code",
   "execution_count": 2,
   "id": "f1d6682f",
   "metadata": {},
   "outputs": [
    {
     "name": "stderr",
     "output_type": "stream",
     "text": [
      "2025-09-17 10:03:56.147 WARNING streamlit.runtime.scriptrunner_utils.script_run_context: Thread 'MainThread': missing ScriptRunContext! This warning can be ignored when running in bare mode.\n",
      "2025-09-17 10:03:56.149 WARNING streamlit.runtime.scriptrunner_utils.script_run_context: Thread 'MainThread': missing ScriptRunContext! This warning can be ignored when running in bare mode.\n",
      "2025-09-17 10:03:56.149 WARNING streamlit.runtime.scriptrunner_utils.script_run_context: Thread 'MainThread': missing ScriptRunContext! This warning can be ignored when running in bare mode.\n"
     ]
    }
   ],
   "source": [
    "graph_tab, table_tab = st.tabs(['graph', 'table'])"
   ]
  },
  {
   "cell_type": "code",
   "execution_count": null,
   "id": "70aa0811",
   "metadata": {},
   "outputs": [],
   "source": [
    "with graph_tab:\n",
    "    st.write(\"A graph should go here. Use st.plotly_chart()\")\n",
    "with table_tab:\n",
    "    st.write(\"A table here please. Use st.dataframe()\")"
   ]
  }
 ],
 "metadata": {
  "kernelspec": {
   "display_name": ".venv",
   "language": "python",
   "name": "python3"
  },
  "language_info": {
   "codemirror_mode": {
    "name": "ipython",
    "version": 3
   },
   "file_extension": ".py",
   "mimetype": "text/x-python",
   "name": "python",
   "nbconvert_exporter": "python",
   "pygments_lexer": "ipython3",
   "version": "3.13.7"
  }
 },
 "nbformat": 4,
 "nbformat_minor": 5
}
