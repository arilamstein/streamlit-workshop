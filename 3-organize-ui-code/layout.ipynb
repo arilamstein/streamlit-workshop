{
 "cells": [
  {
   "cell_type": "markdown",
   "id": "8f398fe2",
   "metadata": {},
   "source": [
    "Note that you cannot really run this code in a Jupyter Notebook: Streamlit builds websites that run in a browser, not a notebook. But you can copy it into `layout_app.py` and run it there by typing `streamlit run layout_app.py` in the terminal.\n",
    "\n",
    "# Columns\n",
    "\n",
    "Create columns with `st.columns`. It takes an integer (the number of columns you want) and returns a list of column objects as a list. It is common to use **tuple unpacking** to immediate store thos column objects as variables."
   ]
  },
  {
   "cell_type": "code",
   "execution_count": 1,
   "id": "cacd055c",
   "metadata": {},
   "outputs": [
    {
     "name": "stderr",
     "output_type": "stream",
     "text": [
      "2025-09-17 12:30:21.547 WARNING streamlit.runtime.scriptrunner_utils.script_run_context: Thread 'MainThread': missing ScriptRunContext! This warning can be ignored when running in bare mode.\n",
      "2025-09-17 12:30:21.547 WARNING streamlit.runtime.scriptrunner_utils.script_run_context: Thread 'MainThread': missing ScriptRunContext! This warning can be ignored when running in bare mode.\n",
      "2025-09-17 12:30:21.547 WARNING streamlit.runtime.scriptrunner_utils.script_run_context: Thread 'MainThread': missing ScriptRunContext! This warning can be ignored when running in bare mode.\n"
     ]
    }
   ],
   "source": [
    "import streamlit as st\n",
    "\n",
    "col1, col2 = st.columns(2)"
   ]
  },
  {
   "cell_type": "markdown",
   "id": "e96147d7",
   "metadata": {},
   "source": [
    "You can use those column with a **context manager**. This means typing `with col1:` and then using indentation to indicate the output you want to see in the column:"
   ]
  },
  {
   "cell_type": "code",
   "execution_count": 2,
   "id": "201e709f",
   "metadata": {},
   "outputs": [
    {
     "name": "stderr",
     "output_type": "stream",
     "text": [
      "2025-09-17 12:30:21.550 WARNING streamlit.runtime.scriptrunner_utils.script_run_context: Thread 'MainThread': missing ScriptRunContext! This warning can be ignored when running in bare mode.\n",
      "2025-09-17 12:30:21.550 WARNING streamlit.runtime.scriptrunner_utils.script_run_context: Thread 'MainThread': missing ScriptRunContext! This warning can be ignored when running in bare mode.\n",
      "2025-09-17 12:30:21.551 WARNING streamlit.runtime.scriptrunner_utils.script_run_context: Thread 'MainThread': missing ScriptRunContext! This warning can be ignored when running in bare mode.\n",
      "2025-09-17 12:30:21.551 WARNING streamlit.runtime.scriptrunner_utils.script_run_context: Thread 'MainThread': missing ScriptRunContext! This warning can be ignored when running in bare mode.\n",
      "2025-09-17 12:30:21.605 \n",
      "  \u001b[33m\u001b[1mWarning:\u001b[0m to view this Streamlit app on a browser, run it with the following\n",
      "  command:\n",
      "\n",
      "    streamlit run /Users/arilamstein/uv-projects/streamlit-workshop/.venv/lib/python3.13/site-packages/ipykernel_launcher.py [ARGUMENTS]\n",
      "2025-09-17 12:30:21.606 Thread 'MainThread': missing ScriptRunContext! This warning can be ignored when running in bare mode.\n",
      "2025-09-17 12:30:21.606 Thread 'MainThread': missing ScriptRunContext! This warning can be ignored when running in bare mode.\n",
      "2025-09-17 12:30:21.606 Thread 'MainThread': missing ScriptRunContext! This warning can be ignored when running in bare mode.\n",
      "2025-09-17 12:30:21.606 Thread 'MainThread': missing ScriptRunContext! This warning can be ignored when running in bare mode.\n",
      "2025-09-17 12:30:21.607 Thread 'MainThread': missing ScriptRunContext! This warning can be ignored when running in bare mode.\n"
     ]
    }
   ],
   "source": [
    "col1, col2 = st.columns(2)\n",
    "with col1:\n",
    "    st.write(\"I'm in col1...\")\n",
    "with col2:\n",
    "    st.write(\"...and I'm in col2!\")"
   ]
  },
  {
   "cell_type": "markdown",
   "id": "9fd6d8ac",
   "metadata": {},
   "source": [
    "Output above and below the context manager will use Streamlit's default of 1 column:"
   ]
  },
  {
   "cell_type": "code",
   "execution_count": 3,
   "id": "3de872df",
   "metadata": {},
   "outputs": [
    {
     "name": "stderr",
     "output_type": "stream",
     "text": [
      "2025-09-17 12:30:21.610 Thread 'MainThread': missing ScriptRunContext! This warning can be ignored when running in bare mode.\n",
      "2025-09-17 12:30:21.610 Thread 'MainThread': missing ScriptRunContext! This warning can be ignored when running in bare mode.\n",
      "2025-09-17 12:30:21.610 Thread 'MainThread': missing ScriptRunContext! This warning can be ignored when running in bare mode.\n",
      "2025-09-17 12:30:21.611 Thread 'MainThread': missing ScriptRunContext! This warning can be ignored when running in bare mode.\n",
      "2025-09-17 12:30:21.611 Thread 'MainThread': missing ScriptRunContext! This warning can be ignored when running in bare mode.\n",
      "2025-09-17 12:30:21.612 Thread 'MainThread': missing ScriptRunContext! This warning can be ignored when running in bare mode.\n",
      "2025-09-17 12:30:21.612 Thread 'MainThread': missing ScriptRunContext! This warning can be ignored when running in bare mode.\n",
      "2025-09-17 12:30:21.612 Thread 'MainThread': missing ScriptRunContext! This warning can be ignored when running in bare mode.\n",
      "2025-09-17 12:30:21.612 Thread 'MainThread': missing ScriptRunContext! This warning can be ignored when running in bare mode.\n",
      "2025-09-17 12:30:21.613 Thread 'MainThread': missing ScriptRunContext! This warning can be ignored when running in bare mode.\n",
      "2025-09-17 12:30:21.613 Thread 'MainThread': missing ScriptRunContext! This warning can be ignored when running in bare mode.\n",
      "2025-09-17 12:30:21.613 Thread 'MainThread': missing ScriptRunContext! This warning can be ignored when running in bare mode.\n",
      "2025-09-17 12:30:21.613 Thread 'MainThread': missing ScriptRunContext! This warning can be ignored when running in bare mode.\n",
      "2025-09-17 12:30:21.613 Thread 'MainThread': missing ScriptRunContext! This warning can be ignored when running in bare mode.\n",
      "2025-09-17 12:30:21.614 Thread 'MainThread': missing ScriptRunContext! This warning can be ignored when running in bare mode.\n"
     ]
    }
   ],
   "source": [
    "st.title(\"Demo Streamlit App\")\n",
    "\n",
    "col1, col2 = st.columns(2)\n",
    "with col1:\n",
    "    st.write(\"I'm in col1...\")\n",
    "with col2:\n",
    "    st.write(\"...and I'm in col2!\")\n",
    "\n",
    "st.write(\"Back to normal\")"
   ]
  },
  {
   "cell_type": "markdown",
   "id": "e7e05146",
   "metadata": {},
   "source": [
    "# Exercise: Columns\n",
    "\n",
    "Open `layout_app.py` and run it with `streamlit run layout_app.py`. \n",
    "\n",
    "The app has 3 select boxes at the top: state, demographic and year. Currently they appear below each other.\n",
    "\n",
    "Update the app to have columns, and put one select box in each column."
   ]
  },
  {
   "cell_type": "markdown",
   "id": "32e64f36",
   "metadata": {},
   "source": [
    "# Tabs\n",
    "\n",
    "Create tabs with `st.tabs`. It takes a **list** of **names** for each tab. Users will click the name of the tab to show what's inside it. It is common to use **tuple unpacking** to immediate store those tab objects as variables.\n",
    "\n",
    "Because tabs have names, it is common to give the variables descriptive names. (Unlike columns, which are normally just called `col1`, `col2`, etc.)\n"
   ]
  },
  {
   "cell_type": "code",
   "execution_count": 4,
   "id": "f1d6682f",
   "metadata": {},
   "outputs": [
    {
     "name": "stderr",
     "output_type": "stream",
     "text": [
      "2025-09-17 12:30:21.618 Thread 'MainThread': missing ScriptRunContext! This warning can be ignored when running in bare mode.\n",
      "2025-09-17 12:30:21.618 Thread 'MainThread': missing ScriptRunContext! This warning can be ignored when running in bare mode.\n",
      "2025-09-17 12:30:21.619 Thread 'MainThread': missing ScriptRunContext! This warning can be ignored when running in bare mode.\n"
     ]
    }
   ],
   "source": [
    "graph_tab, table_tab = st.tabs([\"graph\", \"table\"])"
   ]
  },
  {
   "cell_type": "code",
   "execution_count": 5,
   "id": "70aa0811",
   "metadata": {},
   "outputs": [
    {
     "name": "stderr",
     "output_type": "stream",
     "text": [
      "2025-09-17 12:30:21.623 Thread 'MainThread': missing ScriptRunContext! This warning can be ignored when running in bare mode.\n",
      "2025-09-17 12:30:21.624 Thread 'MainThread': missing ScriptRunContext! This warning can be ignored when running in bare mode.\n",
      "2025-09-17 12:30:21.624 Thread 'MainThread': missing ScriptRunContext! This warning can be ignored when running in bare mode.\n",
      "2025-09-17 12:30:21.625 Thread 'MainThread': missing ScriptRunContext! This warning can be ignored when running in bare mode.\n",
      "2025-09-17 12:30:21.625 Thread 'MainThread': missing ScriptRunContext! This warning can be ignored when running in bare mode.\n",
      "2025-09-17 12:30:21.625 Thread 'MainThread': missing ScriptRunContext! This warning can be ignored when running in bare mode.\n"
     ]
    }
   ],
   "source": [
    "with graph_tab:\n",
    "    st.write(\"A graph should go here. Use st.plotly_chart()\")\n",
    "with table_tab:\n",
    "    st.write(\"A table here please. Use st.dataframe()\")"
   ]
  },
  {
   "cell_type": "markdown",
   "id": "40a51214",
   "metadata": {},
   "source": [
    "# Exercise: Tabs\n",
    "\n",
    "Open `layout_app.py` and run it with `streamlit run layout_app.py`. \n",
    "\n",
    "The app has 3 visualizations at the bottom: a line graph, a map, and a table. Currently they appear below each other.\n",
    "\n",
    "Update the app to have 3 tabs, and put one visualization in each tab. \n",
    "\n",
    "Extra credit: ask an LLM to choose an emoji for each tab."
   ]
  },
  {
   "cell_type": "markdown",
   "id": "cd722772",
   "metadata": {},
   "source": [
    "# Code Organization\n",
    "\n",
    "I have put all the data-related code into a new file called `backend.py`. The file is a series of functions (e.x. `get_data()`). Among other things, this makes it easier to do your own analysis in a notebook. Below is an example of using it:"
   ]
  },
  {
   "cell_type": "code",
   "execution_count": 6,
   "id": "9295af48",
   "metadata": {},
   "outputs": [
    {
     "data": {
      "text/plain": [
       "array(['Alabama', 'Alaska', 'Arizona', 'Arkansas', 'California',\n",
       "       'Colorado', 'Connecticut', 'Delaware', 'District of Columbia',\n",
       "       'Florida', 'Georgia', 'Hawaii', 'Idaho', 'Illinois', 'Indiana',\n",
       "       'Iowa', 'Kansas', 'Kentucky', 'Louisiana', 'Maine', 'Maryland',\n",
       "       'Massachusetts', 'Michigan', 'Minnesota', 'Mississippi',\n",
       "       'Missouri', 'Montana', 'Nebraska', 'Nevada', 'New Hampshire',\n",
       "       'New Jersey', 'New Mexico', 'New York', 'North Carolina',\n",
       "       'North Dakota', 'Ohio', 'Oklahoma', 'Oregon', 'Pennsylvania',\n",
       "       'Puerto Rico', 'Rhode Island', 'South Carolina', 'South Dakota',\n",
       "       'Tennessee', 'Texas', 'Utah', 'Vermont', 'Virginia', 'Washington',\n",
       "       'West Virginia', 'Wisconsin', 'Wyoming'], dtype=object)"
      ]
     },
     "execution_count": 6,
     "metadata": {},
     "output_type": "execute_result"
    }
   ],
   "source": [
    "import backend as be\n",
    "\n",
    "be.get_unique_states()"
   ]
  },
  {
   "cell_type": "markdown",
   "id": "8880e6de",
   "metadata": {},
   "source": [
    "# Notebook Exercises for `backend.py`\n",
    "\n",
    "1. Open `backend.py` and familiarize yourself with the code.\n",
    "2. Use it to create a map of `Median Household Income` for the **first** year of the data.\n",
    "3. Use it to create a map of `Median Household Income` for the **last** year of data.\n",
    "4. How are the maps different? How are they the same?\n",
    "\n",
    "Note that by having the code to create a map in a separate function, it is easier to create multiple maps."
   ]
  },
  {
   "cell_type": "code",
   "execution_count": null,
   "id": "3d6c46a5",
   "metadata": {},
   "outputs": [],
   "source": [
    "import backend as be\n",
    "\n",
    "# Write code here.\n",
    "# Add cells as needed."
   ]
  },
  {
   "cell_type": "markdown",
   "id": "d319e910",
   "metadata": {},
   "source": [
    "# App Exercises for `backend.py`\n",
    "\n",
    "Update `layout_final.py` so that it calls as many functions from the backend as possible. It should not need to use the pandas or plotly libraries directly."
   ]
  }
 ],
 "metadata": {
  "kernelspec": {
   "display_name": ".venv",
   "language": "python",
   "name": "python3"
  },
  "language_info": {
   "codemirror_mode": {
    "name": "ipython",
    "version": 3
   },
   "file_extension": ".py",
   "mimetype": "text/x-python",
   "name": "python",
   "nbconvert_exporter": "python",
   "pygments_lexer": "ipython3",
   "version": "3.13.7"
  }
 },
 "nbformat": 4,
 "nbformat_minor": 5
}
