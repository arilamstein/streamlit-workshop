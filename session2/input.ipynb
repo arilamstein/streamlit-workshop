{
 "cells": [
  {
   "cell_type": "markdown",
   "id": "f1061548",
   "metadata": {},
   "source": [
    "## Dataframes: a Collection of Series\n",
    "\n",
    "Here's the data frame we've been working with. Note that it is of type `DataFrame`."
   ]
  },
  {
   "cell_type": "code",
   "execution_count": 1,
   "id": "c7e7f909",
   "metadata": {},
   "outputs": [
    {
     "data": {
      "text/html": [
       "<div>\n",
       "<style scoped>\n",
       "    .dataframe tbody tr th:only-of-type {\n",
       "        vertical-align: middle;\n",
       "    }\n",
       "\n",
       "    .dataframe tbody tr th {\n",
       "        vertical-align: top;\n",
       "    }\n",
       "\n",
       "    .dataframe thead th {\n",
       "        text-align: right;\n",
       "    }\n",
       "</style>\n",
       "<table border=\"1\" class=\"dataframe\">\n",
       "  <thead>\n",
       "    <tr style=\"text-align: right;\">\n",
       "      <th></th>\n",
       "      <th>State</th>\n",
       "      <th>Year</th>\n",
       "      <th>Total Population</th>\n",
       "      <th>Median Household Income</th>\n",
       "    </tr>\n",
       "  </thead>\n",
       "  <tbody>\n",
       "    <tr>\n",
       "      <th>0</th>\n",
       "      <td>Alabama</td>\n",
       "      <td>2005</td>\n",
       "      <td>4442558</td>\n",
       "      <td>36879</td>\n",
       "    </tr>\n",
       "    <tr>\n",
       "      <th>1</th>\n",
       "      <td>Alabama</td>\n",
       "      <td>2006</td>\n",
       "      <td>4599030</td>\n",
       "      <td>38783</td>\n",
       "    </tr>\n",
       "    <tr>\n",
       "      <th>2</th>\n",
       "      <td>Alabama</td>\n",
       "      <td>2007</td>\n",
       "      <td>4627851</td>\n",
       "      <td>40554</td>\n",
       "    </tr>\n",
       "    <tr>\n",
       "      <th>3</th>\n",
       "      <td>Alabama</td>\n",
       "      <td>2008</td>\n",
       "      <td>4661900</td>\n",
       "      <td>42666</td>\n",
       "    </tr>\n",
       "    <tr>\n",
       "      <th>4</th>\n",
       "      <td>Alabama</td>\n",
       "      <td>2009</td>\n",
       "      <td>4708708</td>\n",
       "      <td>40489</td>\n",
       "    </tr>\n",
       "    <tr>\n",
       "      <th>...</th>\n",
       "      <td>...</td>\n",
       "      <td>...</td>\n",
       "      <td>...</td>\n",
       "      <td>...</td>\n",
       "    </tr>\n",
       "    <tr>\n",
       "      <th>931</th>\n",
       "      <td>Wyoming</td>\n",
       "      <td>2018</td>\n",
       "      <td>577737</td>\n",
       "      <td>61584</td>\n",
       "    </tr>\n",
       "    <tr>\n",
       "      <th>932</th>\n",
       "      <td>Wyoming</td>\n",
       "      <td>2019</td>\n",
       "      <td>578759</td>\n",
       "      <td>65003</td>\n",
       "    </tr>\n",
       "    <tr>\n",
       "      <th>933</th>\n",
       "      <td>Wyoming</td>\n",
       "      <td>2021</td>\n",
       "      <td>578803</td>\n",
       "      <td>65204</td>\n",
       "    </tr>\n",
       "    <tr>\n",
       "      <th>934</th>\n",
       "      <td>Wyoming</td>\n",
       "      <td>2022</td>\n",
       "      <td>581381</td>\n",
       "      <td>70042</td>\n",
       "    </tr>\n",
       "    <tr>\n",
       "      <th>935</th>\n",
       "      <td>Wyoming</td>\n",
       "      <td>2023</td>\n",
       "      <td>584057</td>\n",
       "      <td>72415</td>\n",
       "    </tr>\n",
       "  </tbody>\n",
       "</table>\n",
       "<p>936 rows × 4 columns</p>\n",
       "</div>"
      ],
      "text/plain": [
       "       State  Year  Total Population  Median Household Income\n",
       "0    Alabama  2005           4442558                    36879\n",
       "1    Alabama  2006           4599030                    38783\n",
       "2    Alabama  2007           4627851                    40554\n",
       "3    Alabama  2008           4661900                    42666\n",
       "4    Alabama  2009           4708708                    40489\n",
       "..       ...   ...               ...                      ...\n",
       "931  Wyoming  2018            577737                    61584\n",
       "932  Wyoming  2019            578759                    65003\n",
       "933  Wyoming  2021            578803                    65204\n",
       "934  Wyoming  2022            581381                    70042\n",
       "935  Wyoming  2023            584057                    72415\n",
       "\n",
       "[936 rows x 4 columns]"
      ]
     },
     "metadata": {},
     "output_type": "display_data"
    },
    {
     "data": {
      "text/plain": [
       "pandas.core.frame.DataFrame"
      ]
     },
     "metadata": {},
     "output_type": "display_data"
    }
   ],
   "source": [
    "import pandas as pd\n",
    "from IPython.display import display\n",
    "\n",
    "df = pd.read_csv('state_data.csv')\n",
    "display(df)\n",
    "display(type(df))"
   ]
  },
  {
   "cell_type": "markdown",
   "id": "ad622a88",
   "metadata": {},
   "source": [
    "It is common to think of a DataFrame as \"a rectangle of data.\" A more accurate description is \"A collection of columns, each of the same length.\" \n",
    "\n",
    "Working with a single column of data is very common. You do it like this: `df[<column name>]`.\n",
    "\n",
    "The data in each column is always of the same type (text, number, boolean). The formal type of a column is `Series`.\n"
   ]
  },
  {
   "cell_type": "code",
   "execution_count": 2,
   "id": "9c1fb386",
   "metadata": {},
   "outputs": [
    {
     "data": {
      "text/plain": [
       "0      Alabama\n",
       "1      Alabama\n",
       "2      Alabama\n",
       "3      Alabama\n",
       "4      Alabama\n",
       "        ...   \n",
       "931    Wyoming\n",
       "932    Wyoming\n",
       "933    Wyoming\n",
       "934    Wyoming\n",
       "935    Wyoming\n",
       "Name: State, Length: 936, dtype: object"
      ]
     },
     "metadata": {},
     "output_type": "display_data"
    },
    {
     "data": {
      "text/plain": [
       "pandas.core.series.Series"
      ]
     },
     "metadata": {},
     "output_type": "display_data"
    }
   ],
   "source": [
    "display(df['State'])\n",
    "display(type(df['State']))"
   ]
  },
  {
   "cell_type": "markdown",
   "id": "9cf43473",
   "metadata": {},
   "source": [
    "The `Series` class as a lot of methods. For example, the `unique()` method will return the unique values in the series:"
   ]
  },
  {
   "cell_type": "code",
   "execution_count": 3,
   "id": "3834eaff",
   "metadata": {},
   "outputs": [
    {
     "data": {
      "text/plain": [
       "array(['Alabama', 'Alaska', 'Arizona', 'Arkansas', 'California',\n",
       "       'Colorado', 'Connecticut', 'Delaware', 'District of Columbia',\n",
       "       'Florida', 'Georgia', 'Hawaii', 'Idaho', 'Illinois', 'Indiana',\n",
       "       'Iowa', 'Kansas', 'Kentucky', 'Louisiana', 'Maine', 'Maryland',\n",
       "       'Massachusetts', 'Michigan', 'Minnesota', 'Mississippi',\n",
       "       'Missouri', 'Montana', 'Nebraska', 'Nevada', 'New Hampshire',\n",
       "       'New Jersey', 'New Mexico', 'New York', 'North Carolina',\n",
       "       'North Dakota', 'Ohio', 'Oklahoma', 'Oregon', 'Pennsylvania',\n",
       "       'Puerto Rico', 'Rhode Island', 'South Carolina', 'South Dakota',\n",
       "       'Tennessee', 'Texas', 'Utah', 'Vermont', 'Virginia', 'Washington',\n",
       "       'West Virginia', 'Wisconsin', 'Wyoming'], dtype=object)"
      ]
     },
     "execution_count": 3,
     "metadata": {},
     "output_type": "execute_result"
    }
   ],
   "source": [
    "df['State'].unique()"
   ]
  },
  {
   "cell_type": "markdown",
   "id": "df726f86",
   "metadata": {},
   "source": [
    "# Exercise 2.1: Series Methods\n",
    "\n",
    "1. Calculate the unique values in the `Year` column. Does anything surprise you?\n",
    "2. Use the `min()` and `max()` methods to calculate the min and max population in the dataset. Does anything surprise you?\n",
    "3. Ask an LLM for a suggestion of another method to experiment with, and then try it. Try a prompt like \"I just started working with Pandas Series. I've used the unique, min and max methods. Please suggest another method for me to try.\""
   ]
  },
  {
   "cell_type": "code",
   "execution_count": 8,
   "id": "98230da2",
   "metadata": {},
   "outputs": [],
   "source": [
    "# Put your solution here"
   ]
  },
  {
   "cell_type": "code",
   "execution_count": 6,
   "id": "2563661a",
   "metadata": {},
   "outputs": [
    {
     "data": {
      "text/plain": [
       "np.int64(39557045)"
      ]
     },
     "execution_count": 6,
     "metadata": {},
     "output_type": "execute_result"
    }
   ],
   "source": [
    "df['Total Population'].max()"
   ]
  },
  {
   "cell_type": "markdown",
   "id": "18f772e9",
   "metadata": {},
   "source": [
    "# Filtering a Dataframe\n",
    "\n",
    "The most common operation we perform on a dataframe is: \"Show me the rows where <condition> is true\". \n",
    "\n",
    "An example is \"Show me the rows where the value of the `State` column is `Alabama`\". \n",
    "\n",
    "The syntax for doing this with Pandas is tricky. This workbook walks you though it, in the hopes that it makes the syntax easier to remember."
   ]
  },
  {
   "cell_type": "markdown",
   "id": "6ff64a5e",
   "metadata": {},
   "source": [
    "# Testing for Equality\n",
    "\n",
    "Our goal is to get Pandas to show us the rows in `df` for just Alabama.\n",
    "\n",
    "Our first step is to apply `==` to the Series that contains the state:"
   ]
  },
  {
   "cell_type": "code",
   "execution_count": 10,
   "id": "d8dd8641",
   "metadata": {},
   "outputs": [
    {
     "data": {
      "text/plain": [
       "0       True\n",
       "1       True\n",
       "2       True\n",
       "3       True\n",
       "4       True\n",
       "       ...  \n",
       "931    False\n",
       "932    False\n",
       "933    False\n",
       "934    False\n",
       "935    False\n",
       "Name: State, Length: 936, dtype: bool"
      ]
     },
     "execution_count": 10,
     "metadata": {},
     "output_type": "execute_result"
    }
   ],
   "source": [
    "df['State'] == 'Alabama'"
   ]
  },
  {
   "cell_type": "markdown",
   "id": "013f3d10",
   "metadata": {},
   "source": [
    "Note that the `dtype` above is `bool`. This means that the values are True or False."
   ]
  },
  {
   "cell_type": "markdown",
   "id": "db71e76d",
   "metadata": {},
   "source": [
    "# Boolean Indexing / Filtering\n",
    "\n",
    "If you put a Boolean Series inside the `[]`, Python will return just the values where the mask is `True`."
   ]
  },
  {
   "cell_type": "code",
   "execution_count": 19,
   "id": "19148ecd",
   "metadata": {},
   "outputs": [
    {
     "data": {
      "text/html": [
       "<div>\n",
       "<style scoped>\n",
       "    .dataframe tbody tr th:only-of-type {\n",
       "        vertical-align: middle;\n",
       "    }\n",
       "\n",
       "    .dataframe tbody tr th {\n",
       "        vertical-align: top;\n",
       "    }\n",
       "\n",
       "    .dataframe thead th {\n",
       "        text-align: right;\n",
       "    }\n",
       "</style>\n",
       "<table border=\"1\" class=\"dataframe\">\n",
       "  <thead>\n",
       "    <tr style=\"text-align: right;\">\n",
       "      <th></th>\n",
       "      <th>State</th>\n",
       "      <th>Year</th>\n",
       "      <th>Total Population</th>\n",
       "      <th>Median Household Income</th>\n",
       "    </tr>\n",
       "  </thead>\n",
       "  <tbody>\n",
       "    <tr>\n",
       "      <th>0</th>\n",
       "      <td>Alabama</td>\n",
       "      <td>2005</td>\n",
       "      <td>4442558</td>\n",
       "      <td>36879</td>\n",
       "    </tr>\n",
       "    <tr>\n",
       "      <th>1</th>\n",
       "      <td>Alabama</td>\n",
       "      <td>2006</td>\n",
       "      <td>4599030</td>\n",
       "      <td>38783</td>\n",
       "    </tr>\n",
       "    <tr>\n",
       "      <th>2</th>\n",
       "      <td>Alabama</td>\n",
       "      <td>2007</td>\n",
       "      <td>4627851</td>\n",
       "      <td>40554</td>\n",
       "    </tr>\n",
       "    <tr>\n",
       "      <th>3</th>\n",
       "      <td>Alabama</td>\n",
       "      <td>2008</td>\n",
       "      <td>4661900</td>\n",
       "      <td>42666</td>\n",
       "    </tr>\n",
       "    <tr>\n",
       "      <th>4</th>\n",
       "      <td>Alabama</td>\n",
       "      <td>2009</td>\n",
       "      <td>4708708</td>\n",
       "      <td>40489</td>\n",
       "    </tr>\n",
       "    <tr>\n",
       "      <th>5</th>\n",
       "      <td>Alabama</td>\n",
       "      <td>2010</td>\n",
       "      <td>4785298</td>\n",
       "      <td>40474</td>\n",
       "    </tr>\n",
       "    <tr>\n",
       "      <th>6</th>\n",
       "      <td>Alabama</td>\n",
       "      <td>2011</td>\n",
       "      <td>4802740</td>\n",
       "      <td>41415</td>\n",
       "    </tr>\n",
       "    <tr>\n",
       "      <th>7</th>\n",
       "      <td>Alabama</td>\n",
       "      <td>2012</td>\n",
       "      <td>4822023</td>\n",
       "      <td>41574</td>\n",
       "    </tr>\n",
       "    <tr>\n",
       "      <th>8</th>\n",
       "      <td>Alabama</td>\n",
       "      <td>2013</td>\n",
       "      <td>4833722</td>\n",
       "      <td>42849</td>\n",
       "    </tr>\n",
       "    <tr>\n",
       "      <th>9</th>\n",
       "      <td>Alabama</td>\n",
       "      <td>2014</td>\n",
       "      <td>4849377</td>\n",
       "      <td>42830</td>\n",
       "    </tr>\n",
       "    <tr>\n",
       "      <th>10</th>\n",
       "      <td>Alabama</td>\n",
       "      <td>2015</td>\n",
       "      <td>4858979</td>\n",
       "      <td>44765</td>\n",
       "    </tr>\n",
       "    <tr>\n",
       "      <th>11</th>\n",
       "      <td>Alabama</td>\n",
       "      <td>2016</td>\n",
       "      <td>4863300</td>\n",
       "      <td>46257</td>\n",
       "    </tr>\n",
       "    <tr>\n",
       "      <th>12</th>\n",
       "      <td>Alabama</td>\n",
       "      <td>2017</td>\n",
       "      <td>4874747</td>\n",
       "      <td>48123</td>\n",
       "    </tr>\n",
       "    <tr>\n",
       "      <th>13</th>\n",
       "      <td>Alabama</td>\n",
       "      <td>2018</td>\n",
       "      <td>4887871</td>\n",
       "      <td>49861</td>\n",
       "    </tr>\n",
       "    <tr>\n",
       "      <th>14</th>\n",
       "      <td>Alabama</td>\n",
       "      <td>2019</td>\n",
       "      <td>4903185</td>\n",
       "      <td>51734</td>\n",
       "    </tr>\n",
       "    <tr>\n",
       "      <th>15</th>\n",
       "      <td>Alabama</td>\n",
       "      <td>2021</td>\n",
       "      <td>5039877</td>\n",
       "      <td>53913</td>\n",
       "    </tr>\n",
       "    <tr>\n",
       "      <th>16</th>\n",
       "      <td>Alabama</td>\n",
       "      <td>2022</td>\n",
       "      <td>5074296</td>\n",
       "      <td>59674</td>\n",
       "    </tr>\n",
       "    <tr>\n",
       "      <th>17</th>\n",
       "      <td>Alabama</td>\n",
       "      <td>2023</td>\n",
       "      <td>5108468</td>\n",
       "      <td>62212</td>\n",
       "    </tr>\n",
       "  </tbody>\n",
       "</table>\n",
       "</div>"
      ],
      "text/plain": [
       "      State  Year  Total Population  Median Household Income\n",
       "0   Alabama  2005           4442558                    36879\n",
       "1   Alabama  2006           4599030                    38783\n",
       "2   Alabama  2007           4627851                    40554\n",
       "3   Alabama  2008           4661900                    42666\n",
       "4   Alabama  2009           4708708                    40489\n",
       "5   Alabama  2010           4785298                    40474\n",
       "6   Alabama  2011           4802740                    41415\n",
       "7   Alabama  2012           4822023                    41574\n",
       "8   Alabama  2013           4833722                    42849\n",
       "9   Alabama  2014           4849377                    42830\n",
       "10  Alabama  2015           4858979                    44765\n",
       "11  Alabama  2016           4863300                    46257\n",
       "12  Alabama  2017           4874747                    48123\n",
       "13  Alabama  2018           4887871                    49861\n",
       "14  Alabama  2019           4903185                    51734\n",
       "15  Alabama  2021           5039877                    53913\n",
       "16  Alabama  2022           5074296                    59674\n",
       "17  Alabama  2023           5108468                    62212"
      ]
     },
     "execution_count": 19,
     "metadata": {},
     "output_type": "execute_result"
    }
   ],
   "source": [
    "condition = df['State'] == 'Alabama'\n",
    "df[condition]"
   ]
  },
  {
   "cell_type": "markdown",
   "id": "6fb9a7cd",
   "metadata": {},
   "source": [
    "# Exercises: Filtering dataframe\n",
    "\n",
    "1. Show just the rows where the state is California\n",
    "2. Show just the rows where the population is less than 1 million"
   ]
  },
  {
   "cell_type": "code",
   "execution_count": 20,
   "id": "af322691",
   "metadata": {},
   "outputs": [
    {
     "data": {
      "text/html": [
       "<div>\n",
       "<style scoped>\n",
       "    .dataframe tbody tr th:only-of-type {\n",
       "        vertical-align: middle;\n",
       "    }\n",
       "\n",
       "    .dataframe tbody tr th {\n",
       "        vertical-align: top;\n",
       "    }\n",
       "\n",
       "    .dataframe thead th {\n",
       "        text-align: right;\n",
       "    }\n",
       "</style>\n",
       "<table border=\"1\" class=\"dataframe\">\n",
       "  <thead>\n",
       "    <tr style=\"text-align: right;\">\n",
       "      <th></th>\n",
       "      <th>State</th>\n",
       "      <th>Year</th>\n",
       "      <th>Total Population</th>\n",
       "      <th>Median Household Income</th>\n",
       "    </tr>\n",
       "  </thead>\n",
       "  <tbody>\n",
       "    <tr>\n",
       "      <th>18</th>\n",
       "      <td>Alaska</td>\n",
       "      <td>2005</td>\n",
       "      <td>641724</td>\n",
       "      <td>56234</td>\n",
       "    </tr>\n",
       "    <tr>\n",
       "      <th>19</th>\n",
       "      <td>Alaska</td>\n",
       "      <td>2006</td>\n",
       "      <td>670053</td>\n",
       "      <td>59393</td>\n",
       "    </tr>\n",
       "    <tr>\n",
       "      <th>20</th>\n",
       "      <td>Alaska</td>\n",
       "      <td>2007</td>\n",
       "      <td>683478</td>\n",
       "      <td>64333</td>\n",
       "    </tr>\n",
       "    <tr>\n",
       "      <th>21</th>\n",
       "      <td>Alaska</td>\n",
       "      <td>2008</td>\n",
       "      <td>686293</td>\n",
       "      <td>68460</td>\n",
       "    </tr>\n",
       "    <tr>\n",
       "      <th>22</th>\n",
       "      <td>Alaska</td>\n",
       "      <td>2009</td>\n",
       "      <td>698473</td>\n",
       "      <td>66953</td>\n",
       "    </tr>\n",
       "    <tr>\n",
       "      <th>...</th>\n",
       "      <td>...</td>\n",
       "      <td>...</td>\n",
       "      <td>...</td>\n",
       "      <td>...</td>\n",
       "    </tr>\n",
       "    <tr>\n",
       "      <th>931</th>\n",
       "      <td>Wyoming</td>\n",
       "      <td>2018</td>\n",
       "      <td>577737</td>\n",
       "      <td>61584</td>\n",
       "    </tr>\n",
       "    <tr>\n",
       "      <th>932</th>\n",
       "      <td>Wyoming</td>\n",
       "      <td>2019</td>\n",
       "      <td>578759</td>\n",
       "      <td>65003</td>\n",
       "    </tr>\n",
       "    <tr>\n",
       "      <th>933</th>\n",
       "      <td>Wyoming</td>\n",
       "      <td>2021</td>\n",
       "      <td>578803</td>\n",
       "      <td>65204</td>\n",
       "    </tr>\n",
       "    <tr>\n",
       "      <th>934</th>\n",
       "      <td>Wyoming</td>\n",
       "      <td>2022</td>\n",
       "      <td>581381</td>\n",
       "      <td>70042</td>\n",
       "    </tr>\n",
       "    <tr>\n",
       "      <th>935</th>\n",
       "      <td>Wyoming</td>\n",
       "      <td>2023</td>\n",
       "      <td>584057</td>\n",
       "      <td>72415</td>\n",
       "    </tr>\n",
       "  </tbody>\n",
       "</table>\n",
       "<p>130 rows × 4 columns</p>\n",
       "</div>"
      ],
      "text/plain": [
       "       State  Year  Total Population  Median Household Income\n",
       "18    Alaska  2005            641724                    56234\n",
       "19    Alaska  2006            670053                    59393\n",
       "20    Alaska  2007            683478                    64333\n",
       "21    Alaska  2008            686293                    68460\n",
       "22    Alaska  2009            698473                    66953\n",
       "..       ...   ...               ...                      ...\n",
       "931  Wyoming  2018            577737                    61584\n",
       "932  Wyoming  2019            578759                    65003\n",
       "933  Wyoming  2021            578803                    65204\n",
       "934  Wyoming  2022            581381                    70042\n",
       "935  Wyoming  2023            584057                    72415\n",
       "\n",
       "[130 rows x 4 columns]"
      ]
     },
     "execution_count": 20,
     "metadata": {},
     "output_type": "execute_result"
    }
   ],
   "source": [
    "df[df['Total Population'] < 1000000]"
   ]
  },
  {
   "cell_type": "markdown",
   "id": "cfa8b71c",
   "metadata": {},
   "source": [
    "# Exercises: Update your app\n",
    "\n",
    "Update your app to show just the rows where the state is california\n"
   ]
  },
  {
   "cell_type": "markdown",
   "id": "023f1375",
   "metadata": {},
   "source": [
    "# Exercises for Series\n",
    "\n",
    ".unique() for states\n",
    ".min(), .max() for years, income, population"
   ]
  }
 ],
 "metadata": {
  "kernelspec": {
   "display_name": ".venv",
   "language": "python",
   "name": "python3"
  },
  "language_info": {
   "codemirror_mode": {
    "name": "ipython",
    "version": 3
   },
   "file_extension": ".py",
   "mimetype": "text/x-python",
   "name": "python",
   "nbconvert_exporter": "python",
   "pygments_lexer": "ipython3",
   "version": "3.13.7"
  }
 },
 "nbformat": 4,
 "nbformat_minor": 5
}
