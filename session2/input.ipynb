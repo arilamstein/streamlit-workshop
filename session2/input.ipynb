{
 "cells": [
  {
   "cell_type": "markdown",
   "id": "f1061548",
   "metadata": {},
   "source": [
    "## Dataframes: a Collection of Series\n",
    "\n",
    "Here's the data frame we've been working with. Note that it is of type `DataFrame`."
   ]
  },
  {
   "cell_type": "code",
   "execution_count": 2,
   "id": "c7e7f909",
   "metadata": {},
   "outputs": [
    {
     "data": {
      "text/html": [
       "<div>\n",
       "<style scoped>\n",
       "    .dataframe tbody tr th:only-of-type {\n",
       "        vertical-align: middle;\n",
       "    }\n",
       "\n",
       "    .dataframe tbody tr th {\n",
       "        vertical-align: top;\n",
       "    }\n",
       "\n",
       "    .dataframe thead th {\n",
       "        text-align: right;\n",
       "    }\n",
       "</style>\n",
       "<table border=\"1\" class=\"dataframe\">\n",
       "  <thead>\n",
       "    <tr style=\"text-align: right;\">\n",
       "      <th></th>\n",
       "      <th>State</th>\n",
       "      <th>Year</th>\n",
       "      <th>Total Population</th>\n",
       "      <th>Median Household Income</th>\n",
       "    </tr>\n",
       "  </thead>\n",
       "  <tbody>\n",
       "    <tr>\n",
       "      <th>0</th>\n",
       "      <td>Alabama</td>\n",
       "      <td>2005</td>\n",
       "      <td>4442558</td>\n",
       "      <td>36879</td>\n",
       "    </tr>\n",
       "    <tr>\n",
       "      <th>1</th>\n",
       "      <td>Alabama</td>\n",
       "      <td>2006</td>\n",
       "      <td>4599030</td>\n",
       "      <td>38783</td>\n",
       "    </tr>\n",
       "    <tr>\n",
       "      <th>2</th>\n",
       "      <td>Alabama</td>\n",
       "      <td>2007</td>\n",
       "      <td>4627851</td>\n",
       "      <td>40554</td>\n",
       "    </tr>\n",
       "    <tr>\n",
       "      <th>3</th>\n",
       "      <td>Alabama</td>\n",
       "      <td>2008</td>\n",
       "      <td>4661900</td>\n",
       "      <td>42666</td>\n",
       "    </tr>\n",
       "    <tr>\n",
       "      <th>4</th>\n",
       "      <td>Alabama</td>\n",
       "      <td>2009</td>\n",
       "      <td>4708708</td>\n",
       "      <td>40489</td>\n",
       "    </tr>\n",
       "    <tr>\n",
       "      <th>...</th>\n",
       "      <td>...</td>\n",
       "      <td>...</td>\n",
       "      <td>...</td>\n",
       "      <td>...</td>\n",
       "    </tr>\n",
       "    <tr>\n",
       "      <th>931</th>\n",
       "      <td>Wyoming</td>\n",
       "      <td>2018</td>\n",
       "      <td>577737</td>\n",
       "      <td>61584</td>\n",
       "    </tr>\n",
       "    <tr>\n",
       "      <th>932</th>\n",
       "      <td>Wyoming</td>\n",
       "      <td>2019</td>\n",
       "      <td>578759</td>\n",
       "      <td>65003</td>\n",
       "    </tr>\n",
       "    <tr>\n",
       "      <th>933</th>\n",
       "      <td>Wyoming</td>\n",
       "      <td>2021</td>\n",
       "      <td>578803</td>\n",
       "      <td>65204</td>\n",
       "    </tr>\n",
       "    <tr>\n",
       "      <th>934</th>\n",
       "      <td>Wyoming</td>\n",
       "      <td>2022</td>\n",
       "      <td>581381</td>\n",
       "      <td>70042</td>\n",
       "    </tr>\n",
       "    <tr>\n",
       "      <th>935</th>\n",
       "      <td>Wyoming</td>\n",
       "      <td>2023</td>\n",
       "      <td>584057</td>\n",
       "      <td>72415</td>\n",
       "    </tr>\n",
       "  </tbody>\n",
       "</table>\n",
       "<p>936 rows × 4 columns</p>\n",
       "</div>"
      ],
      "text/plain": [
       "       State  Year  Total Population  Median Household Income\n",
       "0    Alabama  2005           4442558                    36879\n",
       "1    Alabama  2006           4599030                    38783\n",
       "2    Alabama  2007           4627851                    40554\n",
       "3    Alabama  2008           4661900                    42666\n",
       "4    Alabama  2009           4708708                    40489\n",
       "..       ...   ...               ...                      ...\n",
       "931  Wyoming  2018            577737                    61584\n",
       "932  Wyoming  2019            578759                    65003\n",
       "933  Wyoming  2021            578803                    65204\n",
       "934  Wyoming  2022            581381                    70042\n",
       "935  Wyoming  2023            584057                    72415\n",
       "\n",
       "[936 rows x 4 columns]"
      ]
     },
     "metadata": {},
     "output_type": "display_data"
    },
    {
     "data": {
      "text/plain": [
       "pandas.core.frame.DataFrame"
      ]
     },
     "metadata": {},
     "output_type": "display_data"
    }
   ],
   "source": [
    "import pandas as pd\n",
    "from IPython.display import display\n",
    "\n",
    "df = pd.read_csv(\"state_data.csv\")\n",
    "display(df)\n",
    "display(type(df))"
   ]
  },
  {
   "cell_type": "markdown",
   "id": "ad622a88",
   "metadata": {},
   "source": [
    "It is common to think of a DataFrame as \"a rectangle of data.\" A more accurate description is \"A collection of columns, each of the same length.\" Note that each column has a name.\n",
    "\n",
    "Working with a single column of data is very common. You do it like this: `df[<column name>]`.\n",
    "\n",
    "The data in each column is always of the same type (text, number, boolean). The formal type of a column is `Series`.\n"
   ]
  },
  {
   "cell_type": "code",
   "execution_count": 3,
   "id": "9c1fb386",
   "metadata": {},
   "outputs": [
    {
     "data": {
      "text/plain": [
       "0      Alabama\n",
       "1      Alabama\n",
       "2      Alabama\n",
       "3      Alabama\n",
       "4      Alabama\n",
       "        ...   \n",
       "931    Wyoming\n",
       "932    Wyoming\n",
       "933    Wyoming\n",
       "934    Wyoming\n",
       "935    Wyoming\n",
       "Name: State, Length: 936, dtype: object"
      ]
     },
     "metadata": {},
     "output_type": "display_data"
    },
    {
     "data": {
      "text/plain": [
       "pandas.core.series.Series"
      ]
     },
     "metadata": {},
     "output_type": "display_data"
    }
   ],
   "source": [
    "display(df[\"State\"])\n",
    "display(type(df[\"State\"]))"
   ]
  },
  {
   "cell_type": "markdown",
   "id": "9cf43473",
   "metadata": {},
   "source": [
    "The `Series` class as a lot of methods. For example, the `unique()` method will return the unique values in the series:"
   ]
  },
  {
   "cell_type": "code",
   "execution_count": 4,
   "id": "3834eaff",
   "metadata": {},
   "outputs": [
    {
     "data": {
      "text/plain": [
       "array(['Alabama', 'Alaska', 'Arizona', 'Arkansas', 'California',\n",
       "       'Colorado', 'Connecticut', 'Delaware', 'District of Columbia',\n",
       "       'Florida', 'Georgia', 'Hawaii', 'Idaho', 'Illinois', 'Indiana',\n",
       "       'Iowa', 'Kansas', 'Kentucky', 'Louisiana', 'Maine', 'Maryland',\n",
       "       'Massachusetts', 'Michigan', 'Minnesota', 'Mississippi',\n",
       "       'Missouri', 'Montana', 'Nebraska', 'Nevada', 'New Hampshire',\n",
       "       'New Jersey', 'New Mexico', 'New York', 'North Carolina',\n",
       "       'North Dakota', 'Ohio', 'Oklahoma', 'Oregon', 'Pennsylvania',\n",
       "       'Puerto Rico', 'Rhode Island', 'South Carolina', 'South Dakota',\n",
       "       'Tennessee', 'Texas', 'Utah', 'Vermont', 'Virginia', 'Washington',\n",
       "       'West Virginia', 'Wisconsin', 'Wyoming'], dtype=object)"
      ]
     },
     "execution_count": 4,
     "metadata": {},
     "output_type": "execute_result"
    }
   ],
   "source": [
    "df[\"State\"].unique()"
   ]
  },
  {
   "cell_type": "markdown",
   "id": "df726f86",
   "metadata": {},
   "source": [
    "# Exercise 2.1: Series Methods\n",
    "\n",
    "1. Calculate the unique values in the `Year` column. Does anything surprise you?\n",
    "2. Use the `min()` and `max()` methods to calculate the min and max population in the dataset. Does anything surprise you?\n",
    "3. Ask an LLM for a suggestion of another method to experiment with, and then try it. Try a prompt like \"I just started working with Pandas Series. I've used the unique, min and max methods. Please suggest another method for me to try.\""
   ]
  },
  {
   "cell_type": "code",
   "execution_count": 5,
   "id": "98230da2",
   "metadata": {},
   "outputs": [],
   "source": [
    "# Put your solution here"
   ]
  },
  {
   "cell_type": "markdown",
   "id": "18f772e9",
   "metadata": {},
   "source": [
    "# Filtering a Dataframe (Boolean Indexing)\n",
    "\n",
    "The most common operation we perform on a dataframe is: \"Show me the rows where some condition is True\". \n",
    "\n",
    "An example is \"Show me the rows where the values of the 'Total Population' column are less than 1 million\". \n",
    "\n",
    "The technique for doing this in Pandas is called \"Boolean Indexing\". It is a 2-step process: \n",
    "1. First we create a Series that contains Boolean (True/False) values. These values correspond to the rows of the dataframe. \n",
    "2. Then we feed that those values to the original dataframe using bracket `[]` notation. \n",
    "\n",
    "If the first element in the Series is True, then the first row is returned. And so on. "
   ]
  },
  {
   "cell_type": "code",
   "execution_count": 6,
   "id": "c45ec5b8",
   "metadata": {},
   "outputs": [
    {
     "data": {
      "text/html": [
       "<div>\n",
       "<style scoped>\n",
       "    .dataframe tbody tr th:only-of-type {\n",
       "        vertical-align: middle;\n",
       "    }\n",
       "\n",
       "    .dataframe tbody tr th {\n",
       "        vertical-align: top;\n",
       "    }\n",
       "\n",
       "    .dataframe thead th {\n",
       "        text-align: right;\n",
       "    }\n",
       "</style>\n",
       "<table border=\"1\" class=\"dataframe\">\n",
       "  <thead>\n",
       "    <tr style=\"text-align: right;\">\n",
       "      <th></th>\n",
       "      <th>State</th>\n",
       "      <th>Year</th>\n",
       "      <th>Total Population</th>\n",
       "      <th>Median Household Income</th>\n",
       "    </tr>\n",
       "  </thead>\n",
       "  <tbody>\n",
       "    <tr>\n",
       "      <th>0</th>\n",
       "      <td>Alabama</td>\n",
       "      <td>2005</td>\n",
       "      <td>4442558</td>\n",
       "      <td>36879</td>\n",
       "    </tr>\n",
       "    <tr>\n",
       "      <th>1</th>\n",
       "      <td>Alabama</td>\n",
       "      <td>2006</td>\n",
       "      <td>4599030</td>\n",
       "      <td>38783</td>\n",
       "    </tr>\n",
       "    <tr>\n",
       "      <th>2</th>\n",
       "      <td>Alabama</td>\n",
       "      <td>2007</td>\n",
       "      <td>4627851</td>\n",
       "      <td>40554</td>\n",
       "    </tr>\n",
       "    <tr>\n",
       "      <th>3</th>\n",
       "      <td>Alabama</td>\n",
       "      <td>2008</td>\n",
       "      <td>4661900</td>\n",
       "      <td>42666</td>\n",
       "    </tr>\n",
       "    <tr>\n",
       "      <th>4</th>\n",
       "      <td>Alabama</td>\n",
       "      <td>2009</td>\n",
       "      <td>4708708</td>\n",
       "      <td>40489</td>\n",
       "    </tr>\n",
       "    <tr>\n",
       "      <th>...</th>\n",
       "      <td>...</td>\n",
       "      <td>...</td>\n",
       "      <td>...</td>\n",
       "      <td>...</td>\n",
       "    </tr>\n",
       "    <tr>\n",
       "      <th>931</th>\n",
       "      <td>Wyoming</td>\n",
       "      <td>2018</td>\n",
       "      <td>577737</td>\n",
       "      <td>61584</td>\n",
       "    </tr>\n",
       "    <tr>\n",
       "      <th>932</th>\n",
       "      <td>Wyoming</td>\n",
       "      <td>2019</td>\n",
       "      <td>578759</td>\n",
       "      <td>65003</td>\n",
       "    </tr>\n",
       "    <tr>\n",
       "      <th>933</th>\n",
       "      <td>Wyoming</td>\n",
       "      <td>2021</td>\n",
       "      <td>578803</td>\n",
       "      <td>65204</td>\n",
       "    </tr>\n",
       "    <tr>\n",
       "      <th>934</th>\n",
       "      <td>Wyoming</td>\n",
       "      <td>2022</td>\n",
       "      <td>581381</td>\n",
       "      <td>70042</td>\n",
       "    </tr>\n",
       "    <tr>\n",
       "      <th>935</th>\n",
       "      <td>Wyoming</td>\n",
       "      <td>2023</td>\n",
       "      <td>584057</td>\n",
       "      <td>72415</td>\n",
       "    </tr>\n",
       "  </tbody>\n",
       "</table>\n",
       "<p>936 rows × 4 columns</p>\n",
       "</div>"
      ],
      "text/plain": [
       "       State  Year  Total Population  Median Household Income\n",
       "0    Alabama  2005           4442558                    36879\n",
       "1    Alabama  2006           4599030                    38783\n",
       "2    Alabama  2007           4627851                    40554\n",
       "3    Alabama  2008           4661900                    42666\n",
       "4    Alabama  2009           4708708                    40489\n",
       "..       ...   ...               ...                      ...\n",
       "931  Wyoming  2018            577737                    61584\n",
       "932  Wyoming  2019            578759                    65003\n",
       "933  Wyoming  2021            578803                    65204\n",
       "934  Wyoming  2022            581381                    70042\n",
       "935  Wyoming  2023            584057                    72415\n",
       "\n",
       "[936 rows x 4 columns]"
      ]
     },
     "execution_count": 6,
     "metadata": {},
     "output_type": "execute_result"
    }
   ],
   "source": [
    "df"
   ]
  },
  {
   "cell_type": "markdown",
   "id": "253fc14a",
   "metadata": {},
   "source": [
    "# Creating the Boolean Series (Vectorization)\n",
    "\n",
    "Python makes it easy to test whether an individual value is less than 1 million:\n",
    "\n",
    "```py\n",
    "0 < 1000000\n",
    "```\n",
    "\n",
    "In Pandas, we use the same syntax to test whether each value in a Series is less than 1 million:"
   ]
  },
  {
   "cell_type": "code",
   "execution_count": 16,
   "id": "3c27ff2c",
   "metadata": {},
   "outputs": [
    {
     "data": {
      "text/plain": [
       "0      False\n",
       "1      False\n",
       "2      False\n",
       "3      False\n",
       "4      False\n",
       "       ...  \n",
       "931     True\n",
       "932     True\n",
       "933     True\n",
       "934     True\n",
       "935     True\n",
       "Name: Total Population, Length: 936, dtype: bool"
      ]
     },
     "execution_count": 16,
     "metadata": {},
     "output_type": "execute_result"
    }
   ],
   "source": [
    "df[\"Total Population\"] < 1000000"
   ]
  },
  {
   "cell_type": "code",
   "execution_count": 14,
   "id": "d9fe0854",
   "metadata": {},
   "outputs": [
    {
     "data": {
      "text/plain": [
       "0      4442558\n",
       "1      4599030\n",
       "2      4627851\n",
       "3      4661900\n",
       "4      4708708\n",
       "        ...   \n",
       "931     577737\n",
       "932     578759\n",
       "933     578803\n",
       "934     581381\n",
       "935     584057\n",
       "Name: Total Population, Length: 936, dtype: int64"
      ]
     },
     "metadata": {},
     "output_type": "display_data"
    },
    {
     "data": {
      "text/plain": [
       "0      False\n",
       "1      False\n",
       "2      False\n",
       "3      False\n",
       "4      False\n",
       "       ...  \n",
       "931     True\n",
       "932     True\n",
       "933     True\n",
       "934     True\n",
       "935     True\n",
       "Name: Total Population, Length: 936, dtype: bool"
      ]
     },
     "execution_count": 14,
     "metadata": {},
     "output_type": "execute_result"
    }
   ],
   "source": [
    "# Display the column / series\n",
    "display(df[\"Total Population\"])\n",
    "\n",
    "# The test is \"vectorized\" over the Series\n",
    "df[\"Total Population\"] < 1000000"
   ]
  },
  {
   "cell_type": "markdown",
   "id": "49c2a27e",
   "metadata": {},
   "source": [
    "We say that the logical test (`< 1000000`) is *vectorized* over the Series. Note that the comparison returns a boolean Series the same length as the original DataFrame."
   ]
  },
  {
   "cell_type": "markdown",
   "id": "db71e76d",
   "metadata": {},
   "source": [
    "# Boolean Indexing / Filtering\n",
    "\n",
    "If a Boolean Series is put inside brackets after a dataframe, Pandas will return rows which have the value `True`. This is called *Boolean Indexing*. \n",
    "\n",
    "For example, this code will return the rows which have a population less than 1 million:"
   ]
  },
  {
   "cell_type": "code",
   "execution_count": 11,
   "id": "19148ecd",
   "metadata": {},
   "outputs": [
    {
     "data": {
      "text/html": [
       "<div>\n",
       "<style scoped>\n",
       "    .dataframe tbody tr th:only-of-type {\n",
       "        vertical-align: middle;\n",
       "    }\n",
       "\n",
       "    .dataframe tbody tr th {\n",
       "        vertical-align: top;\n",
       "    }\n",
       "\n",
       "    .dataframe thead th {\n",
       "        text-align: right;\n",
       "    }\n",
       "</style>\n",
       "<table border=\"1\" class=\"dataframe\">\n",
       "  <thead>\n",
       "    <tr style=\"text-align: right;\">\n",
       "      <th></th>\n",
       "      <th>State</th>\n",
       "      <th>Year</th>\n",
       "      <th>Total Population</th>\n",
       "      <th>Median Household Income</th>\n",
       "    </tr>\n",
       "  </thead>\n",
       "  <tbody>\n",
       "    <tr>\n",
       "      <th>18</th>\n",
       "      <td>Alaska</td>\n",
       "      <td>2005</td>\n",
       "      <td>641724</td>\n",
       "      <td>56234</td>\n",
       "    </tr>\n",
       "    <tr>\n",
       "      <th>19</th>\n",
       "      <td>Alaska</td>\n",
       "      <td>2006</td>\n",
       "      <td>670053</td>\n",
       "      <td>59393</td>\n",
       "    </tr>\n",
       "    <tr>\n",
       "      <th>20</th>\n",
       "      <td>Alaska</td>\n",
       "      <td>2007</td>\n",
       "      <td>683478</td>\n",
       "      <td>64333</td>\n",
       "    </tr>\n",
       "    <tr>\n",
       "      <th>21</th>\n",
       "      <td>Alaska</td>\n",
       "      <td>2008</td>\n",
       "      <td>686293</td>\n",
       "      <td>68460</td>\n",
       "    </tr>\n",
       "    <tr>\n",
       "      <th>22</th>\n",
       "      <td>Alaska</td>\n",
       "      <td>2009</td>\n",
       "      <td>698473</td>\n",
       "      <td>66953</td>\n",
       "    </tr>\n",
       "    <tr>\n",
       "      <th>...</th>\n",
       "      <td>...</td>\n",
       "      <td>...</td>\n",
       "      <td>...</td>\n",
       "      <td>...</td>\n",
       "    </tr>\n",
       "    <tr>\n",
       "      <th>931</th>\n",
       "      <td>Wyoming</td>\n",
       "      <td>2018</td>\n",
       "      <td>577737</td>\n",
       "      <td>61584</td>\n",
       "    </tr>\n",
       "    <tr>\n",
       "      <th>932</th>\n",
       "      <td>Wyoming</td>\n",
       "      <td>2019</td>\n",
       "      <td>578759</td>\n",
       "      <td>65003</td>\n",
       "    </tr>\n",
       "    <tr>\n",
       "      <th>933</th>\n",
       "      <td>Wyoming</td>\n",
       "      <td>2021</td>\n",
       "      <td>578803</td>\n",
       "      <td>65204</td>\n",
       "    </tr>\n",
       "    <tr>\n",
       "      <th>934</th>\n",
       "      <td>Wyoming</td>\n",
       "      <td>2022</td>\n",
       "      <td>581381</td>\n",
       "      <td>70042</td>\n",
       "    </tr>\n",
       "    <tr>\n",
       "      <th>935</th>\n",
       "      <td>Wyoming</td>\n",
       "      <td>2023</td>\n",
       "      <td>584057</td>\n",
       "      <td>72415</td>\n",
       "    </tr>\n",
       "  </tbody>\n",
       "</table>\n",
       "<p>130 rows × 4 columns</p>\n",
       "</div>"
      ],
      "text/plain": [
       "       State  Year  Total Population  Median Household Income\n",
       "18    Alaska  2005            641724                    56234\n",
       "19    Alaska  2006            670053                    59393\n",
       "20    Alaska  2007            683478                    64333\n",
       "21    Alaska  2008            686293                    68460\n",
       "22    Alaska  2009            698473                    66953\n",
       "..       ...   ...               ...                      ...\n",
       "931  Wyoming  2018            577737                    61584\n",
       "932  Wyoming  2019            578759                    65003\n",
       "933  Wyoming  2021            578803                    65204\n",
       "934  Wyoming  2022            581381                    70042\n",
       "935  Wyoming  2023            584057                    72415\n",
       "\n",
       "[130 rows x 4 columns]"
      ]
     },
     "execution_count": 11,
     "metadata": {},
     "output_type": "execute_result"
    }
   ],
   "source": [
    "df[df[\"Total Population\"] < 1000000]"
   ]
  },
  {
   "cell_type": "markdown",
   "id": "af6c1dc1",
   "metadata": {},
   "source": [
    "# Syntax\n",
    "\n",
    "Boolean Indexing in Pandas can sometimes be confusing to read:\n",
    "\n",
    "```py\n",
    "df[df['Total Population'] < 1000000]\n",
    "```\n",
    "\n",
    "The reason it's confusing is because the bracket operator `[]` is being used twice on one line. And it means something different each time it's used: \n",
    "  * The inner bracket is being used to extract a column as a Series\n",
    "  * The outer bracket is being used as Boolean Indexing for the dataframe.\n",
    "\n",
    "To make things easier to read, the above code is sometimes broken into two lines:"
   ]
  },
  {
   "cell_type": "code",
   "execution_count": 12,
   "id": "ad4a65ef",
   "metadata": {},
   "outputs": [
    {
     "data": {
      "text/html": [
       "<div>\n",
       "<style scoped>\n",
       "    .dataframe tbody tr th:only-of-type {\n",
       "        vertical-align: middle;\n",
       "    }\n",
       "\n",
       "    .dataframe tbody tr th {\n",
       "        vertical-align: top;\n",
       "    }\n",
       "\n",
       "    .dataframe thead th {\n",
       "        text-align: right;\n",
       "    }\n",
       "</style>\n",
       "<table border=\"1\" class=\"dataframe\">\n",
       "  <thead>\n",
       "    <tr style=\"text-align: right;\">\n",
       "      <th></th>\n",
       "      <th>State</th>\n",
       "      <th>Year</th>\n",
       "      <th>Total Population</th>\n",
       "      <th>Median Household Income</th>\n",
       "    </tr>\n",
       "  </thead>\n",
       "  <tbody>\n",
       "    <tr>\n",
       "      <th>18</th>\n",
       "      <td>Alaska</td>\n",
       "      <td>2005</td>\n",
       "      <td>641724</td>\n",
       "      <td>56234</td>\n",
       "    </tr>\n",
       "    <tr>\n",
       "      <th>19</th>\n",
       "      <td>Alaska</td>\n",
       "      <td>2006</td>\n",
       "      <td>670053</td>\n",
       "      <td>59393</td>\n",
       "    </tr>\n",
       "    <tr>\n",
       "      <th>20</th>\n",
       "      <td>Alaska</td>\n",
       "      <td>2007</td>\n",
       "      <td>683478</td>\n",
       "      <td>64333</td>\n",
       "    </tr>\n",
       "    <tr>\n",
       "      <th>21</th>\n",
       "      <td>Alaska</td>\n",
       "      <td>2008</td>\n",
       "      <td>686293</td>\n",
       "      <td>68460</td>\n",
       "    </tr>\n",
       "    <tr>\n",
       "      <th>22</th>\n",
       "      <td>Alaska</td>\n",
       "      <td>2009</td>\n",
       "      <td>698473</td>\n",
       "      <td>66953</td>\n",
       "    </tr>\n",
       "    <tr>\n",
       "      <th>...</th>\n",
       "      <td>...</td>\n",
       "      <td>...</td>\n",
       "      <td>...</td>\n",
       "      <td>...</td>\n",
       "    </tr>\n",
       "    <tr>\n",
       "      <th>931</th>\n",
       "      <td>Wyoming</td>\n",
       "      <td>2018</td>\n",
       "      <td>577737</td>\n",
       "      <td>61584</td>\n",
       "    </tr>\n",
       "    <tr>\n",
       "      <th>932</th>\n",
       "      <td>Wyoming</td>\n",
       "      <td>2019</td>\n",
       "      <td>578759</td>\n",
       "      <td>65003</td>\n",
       "    </tr>\n",
       "    <tr>\n",
       "      <th>933</th>\n",
       "      <td>Wyoming</td>\n",
       "      <td>2021</td>\n",
       "      <td>578803</td>\n",
       "      <td>65204</td>\n",
       "    </tr>\n",
       "    <tr>\n",
       "      <th>934</th>\n",
       "      <td>Wyoming</td>\n",
       "      <td>2022</td>\n",
       "      <td>581381</td>\n",
       "      <td>70042</td>\n",
       "    </tr>\n",
       "    <tr>\n",
       "      <th>935</th>\n",
       "      <td>Wyoming</td>\n",
       "      <td>2023</td>\n",
       "      <td>584057</td>\n",
       "      <td>72415</td>\n",
       "    </tr>\n",
       "  </tbody>\n",
       "</table>\n",
       "<p>130 rows × 4 columns</p>\n",
       "</div>"
      ],
      "text/plain": [
       "       State  Year  Total Population  Median Household Income\n",
       "18    Alaska  2005            641724                    56234\n",
       "19    Alaska  2006            670053                    59393\n",
       "20    Alaska  2007            683478                    64333\n",
       "21    Alaska  2008            686293                    68460\n",
       "22    Alaska  2009            698473                    66953\n",
       "..       ...   ...               ...                      ...\n",
       "931  Wyoming  2018            577737                    61584\n",
       "932  Wyoming  2019            578759                    65003\n",
       "933  Wyoming  2021            578803                    65204\n",
       "934  Wyoming  2022            581381                    70042\n",
       "935  Wyoming  2023            584057                    72415\n",
       "\n",
       "[130 rows x 4 columns]"
      ]
     },
     "execution_count": 12,
     "metadata": {},
     "output_type": "execute_result"
    }
   ],
   "source": [
    "mask = df[\"Total Population\"] <= 1000000\n",
    "df[mask]"
   ]
  },
  {
   "cell_type": "markdown",
   "id": "0075464c",
   "metadata": {},
   "source": [
    "When feeding a variable to a dataframe for Boolean Indexing, it is common to name the variable `mask`."
   ]
  },
  {
   "cell_type": "markdown",
   "id": "6fb9a7cd",
   "metadata": {},
   "source": [
    "# Exercise 2.2: Boolean Indexing\n",
    "\n",
    "1. Create a variable called `mask` that says which rows in `df` are in California. Use it to subset the dataframe.\n",
    "2. Update your app to filter the dataframe to show rows in the state the user selected."
   ]
  },
  {
   "cell_type": "code",
   "execution_count": null,
   "id": "7f092920",
   "metadata": {},
   "outputs": [],
   "source": []
  }
 ],
 "metadata": {
  "kernelspec": {
   "display_name": ".venv",
   "language": "python",
   "name": "python3"
  },
  "language_info": {
   "codemirror_mode": {
    "name": "ipython",
    "version": 3
   },
   "file_extension": ".py",
   "mimetype": "text/x-python",
   "name": "python",
   "nbconvert_exporter": "python",
   "pygments_lexer": "ipython3",
   "version": "3.13.7"
  }
 },
 "nbformat": 4,
 "nbformat_minor": 5
}
